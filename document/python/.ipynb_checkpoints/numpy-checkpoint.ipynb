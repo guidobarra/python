{
 "cells": [
  {
   "cell_type": "code",
   "execution_count": 2,
   "metadata": {},
   "outputs": [],
   "source": [
    "import numpy as np"
   ]
  },
  {
   "cell_type": "code",
   "execution_count": 8,
   "metadata": {},
   "outputs": [
    {
     "name": "stdout",
     "output_type": "stream",
     "text": [
      "Search results for 'edo'\n",
      "------------------------\n",
      "numpy.std\n",
      "    Compute the standard deviation along the specified axis.\n",
      "numpy.var\n",
      "    Compute the variance along the specified axis.\n",
      "numpy.poly\n",
      "    Find the coefficients of a polynomial with the given sequence of roots.\n",
      "numpy.nanstd\n",
      "    Compute the standard deviation along the specified axis, while\n",
      "numpy.nanvar\n",
      "    Compute the variance along the specified axis, while ignoring NaNs.\n",
      "numpy.ma.var\n",
      "    Compute the variance along the specified axis.\n",
      "Search results for 'solve'\n",
      "--------------------------\n",
      "numpy.linalg.solve\n",
      "    Solve a linear matrix equation, or system of linear scalar equations.\n",
      "numpy.linalg.lstsq\n",
      "    Return the least-squares solution to a linear matrix equation.\n",
      "numpy.linalg.tensorsolve\n",
      "    Solve the tensor equation ``a x = b`` for x.\n",
      "numpy.nditer.close\n",
      "    close()\n",
      "numpy.shares_memory\n",
      "    Determine if two arrays share memory\n",
      "numpy.linalg.pinv\n",
      "    Compute the (Moore-Penrose) pseudo-inverse of a matrix.\n",
      "numpy.linalg.cholesky\n",
      "    Cholesky decomposition.\n",
      "numpy.linalg.tensorinv\n",
      "    Compute the 'inverse' of an N-dimensional array.\n",
      "numpy.chararray.setflags\n",
      "    Set array flags WRITEABLE, ALIGNED, (WRITEBACKIFCOPY and UPDATEIFCOPY),\n",
      "numpy.linalg.LinAlgError\n",
      "    Generic Python-exception-derived object raised by linalg functions."
     ]
    }
   ],
   "source": [
    "#ayuda para saber que tiene numpy\n",
    "np.lookfor(\"EDO\")\n",
    "np.lookfor(\"solve\")"
   ]
  },
  {
   "cell_type": "code",
   "execution_count": 11,
   "metadata": {},
   "outputs": [
    {
     "name": "stdout",
     "output_type": "stream",
     "text": [
      "3.141592653589793 2.718281828459045\n"
     ]
    }
   ],
   "source": [
    "#constantes\n",
    "print(np.pi, np.e)"
   ]
  },
  {
   "cell_type": "code",
   "execution_count": 18,
   "metadata": {},
   "outputs": [
    {
     "name": "stdout",
     "output_type": "stream",
     "text": [
      "[ 0.   0.5  1.   1.5  2.   2.5  3.   3.5  4.   4.5  5.   5.5  6.   6.5\n",
      "  7.   7.5  8.   8.5  9.   9.5 10. ]\n",
      "21 elementos del array\n"
     ]
    }
   ],
   "source": [
    "# rango de 0 a 10 y que sea 21 elementos\n",
    "\n",
    "print(np.linspace(0,10,21))\n",
    "print(len(np.linspace(0,10,21)), \"elementos del array\")"
   ]
  },
  {
   "cell_type": "code",
   "execution_count": 25,
   "metadata": {},
   "outputs": [
    {
     "name": "stdout",
     "output_type": "stream",
     "text": [
      "[ 0  1  2  3  4  5  6  7  8  9 10]\n",
      "[0 3 6 9]\n"
     ]
    }
   ],
   "source": [
    "#nota el ultimo parametro no se incluye en el rango\n",
    "print(np.arange(0,11))\n",
    "#un rango de 0 a 11 saltando de 3 en 3\n",
    "print(np.arange(0,11,3))"
   ]
  },
  {
   "cell_type": "code",
   "execution_count": 29,
   "metadata": {},
   "outputs": [
    {
     "data": {
      "text/plain": [
       "array([   1.,   10.,  100., 1000.])"
      ]
     },
     "execution_count": 29,
     "metadata": {},
     "output_type": "execute_result"
    }
   ],
   "source": [
    "# escala logaritmica\n",
    "np.logspace(0,3,4)"
   ]
  },
  {
   "cell_type": "code",
   "execution_count": 33,
   "metadata": {},
   "outputs": [
    {
     "name": "stdout",
     "output_type": "stream",
     "text": [
      "[[1 2 3]\n",
      " [4 5 6]\n",
      " [7 8 9]]\n",
      "\n",
      "\n",
      " [[1 2 3]\n",
      " [4 5 6]\n",
      " [7 8 9]]\n"
     ]
    }
   ],
   "source": [
    "#Comenzaremos por crear un array 1d con los valores (1,2,3,4,5,6,7,8,9) usando np.arange().\n",
    "#Luego le daremos forma de array 2d. con np.reshape(array, (dim0, dim1))\n",
    "a = np.arange(1,10)\n",
    "M = np.reshape(a, [3,3])\n",
    "print(M)\n",
    "\n",
    "#otra forma\n",
    "N = a.reshape([3,3])\n",
    "print(\"\\n\\n\",N)"
   ]
  },
  {
   "cell_type": "code",
   "execution_count": 51,
   "metadata": {},
   "outputs": [
    {
     "name": "stdout",
     "output_type": "stream",
     "text": [
      "1 \n",
      "\n",
      "\n",
      "matriz original\n",
      " [[1 2 3]\n",
      " [4 5 6]]\n",
      "\n",
      "obtengo una submatriz \n",
      " [[2 3]\n",
      " [5 6]]\n",
      "\n",
      "matriz identidad de int y no de float\n",
      " [[1 0 0 0]\n",
      " [0 1 0 0]\n",
      " [0 0 1 0]\n",
      " [0 0 0 1]]\n",
      "\n",
      "filas y columnas tuplas:  (3, 3) \n",
      " [[1. 0. 0.]\n",
      " [0. 1. 0.]\n",
      " [0. 0. 1.]]\n"
     ]
    }
   ],
   "source": [
    "#indexaccion de arrays\n",
    "m1 = np.array([\n",
    "    [1,2,3],\n",
    "    [4,5,6]]\n",
    "        )\n",
    "# la clasica\n",
    "print(m1[0][0],\"\\n\\n\")\n",
    "# hay que repetir una otra vez que el rango  es  n:m => n,n+1,....m-1 hasta\n",
    "print(\"matriz original\\n\",m1)\n",
    "print(\"\\nobtengo una submatriz \\n\",m1[0:2,1:3])\n",
    "print(\"\\nmatriz identidad de int y no de float\\n\",np.identity(4).astype(int))\n",
    "print(\"\\nfilas y columnas tuplas: \",np.identity(3).shape,\"\\n\",np.identity(3))"
   ]
  },
  {
   "cell_type": "code",
   "execution_count": 65,
   "metadata": {},
   "outputs": [
    {
     "name": "stdout",
     "output_type": "stream",
     "text": [
      "[[0.         1.         1.41421356]\n",
      " [1.73205081 2.         2.23606798]]\n",
      "\n",
      "\n",
      "la raiz de numero complejos\n",
      " [[-3.+0.j -2.+0.j -1.+0.j]\n",
      " [ 0.+0.j  1.+0.j  2.+0.j]] \n",
      "\n",
      "raiz\n",
      " [[0.        +1.73205081j 0.        +1.41421356j 0.        +1.j        ]\n",
      " [0.        +0.j         1.        +0.j         1.41421356+0.j        ]]\n"
     ]
    }
   ],
   "source": [
    "a = np.arange(6).reshape(2,3)\n",
    "print(np.sqrt(a))\n",
    "print(\"\\n\\nla raiz de numero complejos\\n\",np.arange(-3,3).astype(complex).reshape(2,3),\n",
    "      \"\\n\\nraiz\\n\",np.sqrt(np.arange(-3,3).astype(complex).reshape(2,3)))"
   ]
  },
  {
   "cell_type": "code",
   "execution_count": 74,
   "metadata": {},
   "outputs": [
    {
     "name": "stdout",
     "output_type": "stream",
     "text": [
      "\n",
      "m2\n",
      " [0. 1. 2. 3. 4. 5.]\n",
      "\n",
      "m3\n",
      " [1. 1. 1. 1. 1. 1.]\n",
      "\n",
      " m2 == m3 \n",
      " [False  True False False False False]\n",
      "\n",
      "alguno es verdaro\n",
      " True\n",
      "\n",
      "todos son verdaros\n",
      " False\n"
     ]
    }
   ],
   "source": [
    "#comparaciones\n",
    "m2 = np.arange(6).astype(float)\n",
    "m3 = np.ones(6)\n",
    "print(\"\\nm2\\n\",m2)\n",
    "print(\"\\nm3\\n\",m3)\n",
    "print(\"\\n m2 == m3 \\n\",np.isclose(m2,m3,rtol=1e-2))#para la igualdad de los .flotante (float) le doy el rango de tolerancia\n",
    "print(\"\\nalguno es verdaro\\n\",np.any(m2<m3))\n",
    "print(\"\\ntodos son verdaros\\n\",np.all(m2<m3))"
   ]
  },
  {
   "cell_type": "code",
   "execution_count": null,
   "metadata": {},
   "outputs": [],
   "source": []
  }
 ],
 "metadata": {
  "kernelspec": {
   "display_name": "Python 3",
   "language": "python",
   "name": "python3"
  },
  "language_info": {
   "codemirror_mode": {
    "name": "ipython",
    "version": 3
   },
   "file_extension": ".py",
   "mimetype": "text/x-python",
   "name": "python",
   "nbconvert_exporter": "python",
   "pygments_lexer": "ipython3",
   "version": "3.7.1"
  }
 },
 "nbformat": 4,
 "nbformat_minor": 2
}
