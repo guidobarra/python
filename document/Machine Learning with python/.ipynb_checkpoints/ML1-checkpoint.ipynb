{
 "cells": [
  {
   "cell_type": "markdown",
   "metadata": {},
   "source": [
    "# Aprediendo\n",
    "\n",
    "GUIDO BARRA *python* and *R*"
   ]
  },
  {
   "cell_type": "markdown",
   "metadata": {},
   "source": [
    "### EJEMPLO 1: *HOLA, MUNDO* "
   ]
  },
  {
   "cell_type": "code",
   "execution_count": 5,
   "metadata": {},
   "outputs": [
    {
     "name": "stdout",
     "output_type": "stream",
     "text": [
      "hello, guido\n",
      "\n"
     ]
    }
   ],
   "source": [
    "# USAR ESC + M =MARKDOWN, ESC + Y = CODE\n",
    "my_name = \"guido\"\n",
    "hello_statement = \"hello, \" + my_name #escribi una parte del nombre de la variable y despues presiona tab\n",
    "print(hello_statement,end=\"\\n\\n\") #shift + tab = informacion de la funcion\n",
    "x = 10"
   ]
  },
  {
   "cell_type": "markdown",
   "metadata": {},
   "source": [
    "Example 2: world's *best loop is here*"
   ]
  },
  {
   "cell_type": "code",
   "execution_count": 7,
   "metadata": {},
   "outputs": [
    {
     "name": "stdout",
     "output_type": "stream",
     "text": [
      "j = 1  x = 11\n",
      "j = 2  x = 13\n",
      "j = 3  x = 16\n",
      "j = 4  x = 20\n"
     ]
    }
   ],
   "source": [
    "for j in range(1,5):\n",
    "    x = x +j\n",
    "    print(\"j = {0}  x = {1}\".format(j,x))"
   ]
  },
  {
   "cell_type": "code",
   "execution_count": null,
   "metadata": {},
   "outputs": [],
   "source": []
  }
 ],
 "metadata": {
  "kernelspec": {
   "display_name": "Python 3",
   "language": "python",
   "name": "python3"
  },
  "language_info": {
   "codemirror_mode": {
    "name": "ipython",
    "version": 3
   },
   "file_extension": ".py",
   "mimetype": "text/x-python",
   "name": "python",
   "nbconvert_exporter": "python",
   "pygments_lexer": "ipython3",
   "version": "3.7.1"
  }
 },
 "nbformat": 4,
 "nbformat_minor": 2
}
