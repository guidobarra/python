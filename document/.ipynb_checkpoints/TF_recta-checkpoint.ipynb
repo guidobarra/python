{
 "cells": [
  {
   "cell_type": "code",
   "execution_count": 2,
   "metadata": {},
   "outputs": [],
   "source": [
    "import tensorflow as tf"
   ]
  },
  {
   "cell_type": "code",
   "execution_count": 7,
   "metadata": {},
   "outputs": [
    {
     "name": "stdout",
     "output_type": "stream",
     "text": [
      "Intermadiate result: Wx =  [  30 3300]\n",
      "final result: Wx + b =  [  57 5009]\n",
      "Intermediate specified: Wx +b = [ 107 1009]\n",
      "Two results: [Wx + b, x - b] = [array([  57, 5009]), array([-2, 41])]\n"
     ]
    }
   ],
   "source": [
    "# y = Wx + b\n",
    "W = tf.constant([10, 100], name='const_W')\n",
    "\n",
    "x = tf.placeholder(tf.int32, name='x')\n",
    "b = tf.placeholder(tf.int32, name='b')\n",
    "\n",
    "Wx = tf.multiply(W, x, name=\"Wx\")\n",
    "y = tf.add(Wx, b, name=\"y\")\n",
    "\n",
    "# y_ = x-b\n",
    "\n",
    "y_ = tf.subtract(x, b, name= \"y_\")\n",
    "# la forma mas conveniente que trabajar con \n",
    "#seciones con tensorflow\n",
    "with tf.Session() as sess:\n",
    "    print (\"Intermadiate result: Wx = \", sess.run(Wx, feed_dict={x: [3, 33]}) )\n",
    "    \n",
    "    print (\"final result: Wx + b = \", sess.run(y, feed_dict={x: [5,50],b: [7,9]}) )\n",
    "    \n",
    "    print (\"Intermediate specified: Wx + b =\", \\\n",
    "          sess.run(fetches=y, feed_dict={Wx: [100, 1000], b: [7, 9]}))\n",
    "    \n",
    "    print (\"Two results: [Wx + b, x - b] =\", \\\n",
    "          sess.run(fetches=[y, y_], feed_dict={x: [5, 50], b: [7, 9]}))\n",
    "    \n",
    "writer = tf.summary.FileWriter('./m3_example2', sess.graph)\n",
    "writer.close()"
   ]
  },
  {
   "cell_type": "code",
   "execution_count": null,
   "metadata": {},
   "outputs": [],
   "source": []
  }
 ],
 "metadata": {
  "kernelspec": {
   "display_name": "Python 3",
   "language": "python",
   "name": "python3"
  },
  "language_info": {
   "codemirror_mode": {
    "name": "ipython",
    "version": 3
   },
   "file_extension": ".py",
   "mimetype": "text/x-python",
   "name": "python",
   "nbconvert_exporter": "python",
   "pygments_lexer": "ipython3",
   "version": "3.6.8"
  }
 },
 "nbformat": 4,
 "nbformat_minor": 2
}
