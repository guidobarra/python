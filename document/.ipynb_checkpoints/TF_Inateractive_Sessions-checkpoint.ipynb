{
 "cells": [
  {
   "cell_type": "code",
   "execution_count": 2,
   "metadata": {},
   "outputs": [],
   "source": [
    "import tensorflow as tf"
   ]
  },
  {
   "cell_type": "code",
   "execution_count": 10,
   "metadata": {},
   "outputs": [
    {
     "name": "stdout",
     "output_type": "stream",
     "text": [
      "[20]\n"
     ]
    }
   ],
   "source": [
    "\"\"\"\n",
    "la sesion interactiva permite trabajar con una sesion en tensorflow\n",
    "sin tener una referencia a la instancia de la sesion. Si queremos evaluar\n",
    "algo no necesitamos  especificar la sesion. \n",
    "y.eval() es equivalente a tf.get_default_session().run(y)\n",
    "\"\"\"\n",
    "sess = tf.InteractiveSession()\n",
    "\n",
    "A  = tf.constant([4], tf.int32, name=\"A\")\n",
    "x = tf.placeholder(tf.int32, name=\"x\")\n",
    "\n",
    "y = A * x\n",
    "\n",
    "y.eval(feed_dict={x: [5]}) \n",
    "\n",
    "print(y.eval(feed_dict={x: [5]}) )\n",
    "\n",
    "sess.close()"
   ]
  }
 ],
 "metadata": {
  "kernelspec": {
   "display_name": "Python 3",
   "language": "python",
   "name": "python3"
  },
  "language_info": {
   "codemirror_mode": {
    "name": "ipython",
    "version": 3
   },
   "file_extension": ".py",
   "mimetype": "text/x-python",
   "name": "python",
   "nbconvert_exporter": "python",
   "pygments_lexer": "ipython3",
   "version": "3.6.8"
  }
 },
 "nbformat": 4,
 "nbformat_minor": 2
}
