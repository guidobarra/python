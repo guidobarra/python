{
 "cells": [
  {
   "cell_type": "code",
   "execution_count": 2,
   "metadata": {},
   "outputs": [],
   "source": [
    "import tensorflow as tf"
   ]
  },
  {
   "cell_type": "code",
   "execution_count": 19,
   "metadata": {},
   "outputs": [
    {
     "name": "stdout",
     "output_type": "stream",
     "text": [
      "Final result: Wx + b =  [ 30. 410.]\n",
      "Final result: Wx =  [ 25. 400.]\n",
      "\n",
      "Number*=multiplier\n",
      "Result = number * multiplier\n",
      "\n",
      "number, multiplier, result\n",
      "2 1 2\n",
      "number, multiplier, result\n",
      "2 2 4\n",
      "number, multiplier, result\n",
      "4 3 12\n",
      "number, multiplier, result\n",
      "12 4 48\n",
      "number, multiplier, result\n",
      "48 5 240\n",
      "number, multiplier, result\n",
      "240 6 1440\n",
      "number, multiplier, result\n",
      "1440 7 10080\n",
      "number, multiplier, result\n",
      "10080 8 80640\n",
      "number, multiplier, result\n",
      "80640 9 725760\n",
      "number, multiplier, result\n",
      "725760 10 7257600\n"
     ]
    }
   ],
   "source": [
    "# y = Wx + b\n",
    "W = tf.Variable([2.5,4.0], tf.float32, name=\"var_W\")\n",
    "b = tf.Variable([5.0,10.0], tf.float32, name=\"var_b\")\n",
    "\n",
    "x = tf.placeholder(tf.float32, name=\"x\")\n",
    "\n",
    "y = W*x + b\n",
    "\n",
    "# inicializar todas las variables\n",
    "\n",
    "init = tf.global_variables_initializer()\n",
    "\n",
    "with tf.Session() as sess:\n",
    "    sess.run(init)\n",
    "    print(\"Final result: Wx + b = \", sess.run(y, feed_dict={x: [10, 100]}))\n",
    "    \n",
    "# s = Wx\n",
    "s  = W*x\n",
    "\n",
    "#solo inicializo las variable \"W\"\n",
    "init = tf.variables_initializer([W])\n",
    "\n",
    "with tf.Session() as sess:\n",
    "    sess.run(init)\n",
    "    \n",
    "    #tirar un error porque no inicalice la variable \"b\" que es usada en la ecuacion (variable) \"y\"\n",
    "    #print(\"will this work?: Wx + b = \", sess.run(y, feed_dict={x: [10, 100]}))\n",
    "    \n",
    "    print(\"Final result: Wx = \", sess.run(s, feed_dict={x: [10, 100]}))\n",
    "    \n",
    "number = tf.Variable(2)\n",
    "multiplier = tf.Variable(1)\n",
    "\n",
    "init = tf.global_variables_initializer()\n",
    "\n",
    "#se asigna a number la multiplicacion de number y multiplier, y despues a result le asigna  number\n",
    "result = number.assign(tf.multiply(number, multiplier))\n",
    "\n",
    "print(\"\\nNumber*=multiplier\")\n",
    "print(\"Result = number * multiplier\\n\")\n",
    "with tf.Session() as sess:\n",
    "    sess.run(init)\n",
    "    \n",
    "    for i in range(10):\n",
    "        print(\"number, multiplier, result\")\n",
    "        print(sess.run(number),sess.run(multiplier), sess.run(result))\n",
    "        \n",
    "        # incremente 1 a multiplier\n",
    "        sess.run(multiplier.assign_add(1))\n",
    "        #print(\"Result number * multiplier = \",sess.run(number), sess.run(result))\n",
    "        #print(\"Increment multiplier, new value = \", sess.run(multiplier.assign_add(1)))"
   ]
  },
  {
   "cell_type": "code",
   "execution_count": null,
   "metadata": {},
   "outputs": [],
   "source": []
  }
 ],
 "metadata": {
  "kernelspec": {
   "display_name": "Python 3",
   "language": "python",
   "name": "python3"
  },
  "language_info": {
   "codemirror_mode": {
    "name": "ipython",
    "version": 3
   },
   "file_extension": ".py",
   "mimetype": "text/x-python",
   "name": "python",
   "nbconvert_exporter": "python",
   "pygments_lexer": "ipython3",
   "version": "3.6.8"
  }
 },
 "nbformat": 4,
 "nbformat_minor": 2
}
