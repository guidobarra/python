{
 "cells": [
  {
   "cell_type": "code",
   "execution_count": 8,
   "metadata": {},
   "outputs": [],
   "source": [
    "import tensorflow as tf"
   ]
  },
  {
   "cell_type": "code",
   "execution_count": 3,
   "metadata": {},
   "outputs": [
    {
     "name": "stdout",
     "output_type": "stream",
     "text": [
      "[ 53 704]\n"
     ]
    }
   ],
   "source": [
    "g1 = tf.Graph()\n",
    "\n",
    "with g1.as_default():\n",
    "     with tf.Session() as sess:s\n",
    "            # y = Ax + b\n",
    "            x = tf.placeholder(tf.int32, name=\"x\")\n",
    "            \n",
    "            A = tf.constant([5, 7], tf.int32, name=\"A\")\n",
    "            b = tf.constant([3, 4], tf.int32, name=\"b\")\n",
    "            \n",
    "            y = A * x + b\n",
    "            \n",
    "            print(sess.run(y, feed_dict={x: [10, 100]}))\n",
    "            \n",
    "            assert y.graph is g1"
   ]
  },
  {
   "cell_type": "code",
   "execution_count": 5,
   "metadata": {},
   "outputs": [
    {
     "name": "stdout",
     "output_type": "stream",
     "text": [
      "[  125 16807]\n"
     ]
    }
   ],
   "source": [
    "g2 = tf.Graph()\n",
    "\n",
    "with g2.as_default():\n",
    "    with tf.Session() as sess:\n",
    "        # y = A^x\n",
    "        x = tf.placeholder(tf.int32, name=\"x\")\n",
    "        \n",
    "        A = tf.constant([5, 7], tf.int32, name=\"A\")\n",
    "        \n",
    "        y = tf.pow(A,x, name=\"y\")\n",
    "        \n",
    "        print(sess.run(y,feed_dict={x: [3, 5]}))\n",
    "        \n",
    "        assert y.graph is g2"
   ]
  },
  {
   "cell_type": "code",
   "execution_count": 9,
   "metadata": {},
   "outputs": [
    {
     "name": "stdout",
     "output_type": "stream",
     "text": [
      "[ 8 12]\n"
     ]
    }
   ],
   "source": [
    "# otra forma \n",
    "default_graph = tf.get_default_graph()\n",
    "with tf.Session() as sess:\n",
    "    # y = A + x\n",
    "    \n",
    "    A = tf.constant([5, 7], tf.int32, name=\"A\")\n",
    "    \n",
    "    x = tf.placeholder(tf.int32, name=\"x\")\n",
    "    \n",
    "    y = A + x\n",
    "    \n",
    "    print(sess.run(y, feed_dict={x: [3, 5]}))\n",
    "    \n",
    "    assert y.graph is default_graph"
   ]
  },
  {
   "cell_type": "code",
   "execution_count": null,
   "metadata": {},
   "outputs": [],
   "source": [
    "#todos los programas de tensor flow tiene asociado un grafico prederterminado \n",
    "#que se realiza al usar variable, constant o placeholder.\n"
   ]
  }
 ],
 "metadata": {
  "kernelspec": {
   "display_name": "Python 3",
   "language": "python",
   "name": "python3"
  },
  "language_info": {
   "codemirror_mode": {
    "name": "ipython",
    "version": 3
   },
   "file_extension": ".py",
   "mimetype": "text/x-python",
   "name": "python",
   "nbconvert_exporter": "python",
   "pygments_lexer": "ipython3",
   "version": "3.6.8"
  }
 },
 "nbformat": 4,
 "nbformat_minor": 2
}
