{
 "cells": [
  {
   "cell_type": "code",
   "execution_count": 1,
   "metadata": {},
   "outputs": [],
   "source": [
    "import tensorflow as tf"
   ]
  },
  {
   "cell_type": "code",
   "execution_count": 3,
   "metadata": {},
   "outputs": [],
   "source": [
    "x = tf.constant([100,200,300],name='x')\n",
    "y = tf.constant([1,2,3],name='y')\n",
    "\n",
    "sum_x = tf.reduce_sum(x,name=\"sum_x\")#100 + 200 + 300\n",
    "prod_y = tf.reduce_prod(y,name=\"prod_y\")#1*2*3\n",
    "\n",
    "final_div = tf.div(sum_x,prod_y,name=\"final_div\")\n",
    "final_mean = tf.reduce_mean([sum_x,prod_y],name=\"final_mean\")\n"
   ]
  },
  {
   "cell_type": "code",
   "execution_count": 6,
   "metadata": {},
   "outputs": [
    {
     "name": "stdout",
     "output_type": "stream",
     "text": [
      "x:  [100 200 300]\n",
      "y:  [1 2 3]\n",
      "sum(x):  600\n",
      "prod(y):  6\n",
      "sum(x)/prod(y):  100\n",
      "mean(suma(x),prod(y)):  303\n"
     ]
    }
   ],
   "source": [
    "sess = tf.Session()\n",
    "\n",
    "print(\"x: \",sess.run(x))\n",
    "print(\"y: \",sess.run(y))\n",
    "print(\"sum(x): \",sess.run(sum_x))\n",
    "print(\"prod(y): \",sess.run(prod_y))\n",
    "print(\"sum(x)/prod(y): \",sess.run(final_div))\n",
    "print(\"mean(suma(x),prod(y)): \",sess.run(final_mean))"
   ]
  },
  {
   "cell_type": "code",
   "execution_count": 8,
   "metadata": {},
   "outputs": [],
   "source": [
    "write = tf.summary.FileWriter('./m2_example3',sess.graph)\n",
    "write.close()\n",
    "sess.close()"
   ]
  },
  {
   "cell_type": "code",
   "execution_count": null,
   "metadata": {},
   "outputs": [],
   "source": []
  }
 ],
 "metadata": {
  "kernelspec": {
   "display_name": "Python 3",
   "language": "python",
   "name": "python3"
  },
  "language_info": {
   "codemirror_mode": {
    "name": "ipython",
    "version": 3
   },
   "file_extension": ".py",
   "mimetype": "text/x-python",
   "name": "python",
   "nbconvert_exporter": "python",
   "pygments_lexer": "ipython3",
   "version": "3.6.8"
  }
 },
 "nbformat": 4,
 "nbformat_minor": 2
}
