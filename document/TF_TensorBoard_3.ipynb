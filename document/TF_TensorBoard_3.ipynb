{
 "cells": [
  {
   "cell_type": "code",
   "execution_count": 13,
   "metadata": {},
   "outputs": [],
   "source": [
    "import tensorflow as  tf "
   ]
  },
  {
   "cell_type": "code",
   "execution_count": 14,
   "metadata": {},
   "outputs": [],
   "source": [
    "A = tf.constant([4], tf.int32,name=\"A\")\n",
    "B = tf.constant([5], tf.int32,name=\"B\")\n",
    "C = tf.constant([6], tf.int32,name=\"C\")\n",
    "\n",
    "x = tf.placeholder(tf.int32, name=\"x\")\n",
    "\n",
    "# y = Ax^2 + Bx + c\n",
    "\n",
    "with tf.name_scope(\"Equation_1\"):\n",
    "    Ax2_1 = tf.multiply(A, tf.pow(x,2),name=\"Ax2_1\")\n",
    "    Bx = tf.multiply(B, x, name=\"Bx\")\n",
    "    y1 = tf.add_n([Ax2_1, Bx, C], name=\"y1\")\n",
    "\n",
    "# y = Ax^2 + Bx^2\n",
    "\n",
    "with tf.name_scope(\"Equation_2\"):\n",
    "    Ax2_2 = tf.multiply(A, tf.pow(x,2),name=\"Ax2_2\")\n",
    "    Bx2 = tf.multiply(B, tf.pow(x,2),name=\"Bx2\")\n",
    "    y2 = tf.add_n([Ax2_2, Bx2], name=\"y2\")\n",
    "\n",
    "with tf.name_scope(\"Final_Sum\"):    \n",
    "    y = y1 + y2\n",
    "    \n",
    "# serandolo de esa forma, se los puede ver como burbujas que contiene X operaciones\n",
    "# esto se lo ve graficamente en tensorboard"
   ]
  },
  {
   "cell_type": "code",
   "execution_count": 15,
   "metadata": {
    "scrolled": true
   },
   "outputs": [
    {
     "name": "stdout",
     "output_type": "stream",
     "text": [
      "[1356]\n"
     ]
    }
   ],
   "source": [
    "with tf.Session() as sess:\n",
    "    print( sess.run(y, feed_dict={x: [10]}))\n",
    "    \n",
    "    writer = tf.summary.FileWriter(\"./m3_example3\", sess.graph)\n",
    "    writer.close()"
   ]
  }
 ],
 "metadata": {
  "kernelspec": {
   "display_name": "Python 3",
   "language": "python",
   "name": "python3"
  },
  "language_info": {
   "codemirror_mode": {
    "name": "ipython",
    "version": 3
   },
   "file_extension": ".py",
   "mimetype": "text/x-python",
   "name": "python",
   "nbconvert_exporter": "python",
   "pygments_lexer": "ipython3",
   "version": "3.6.8"
  }
 },
 "nbformat": 4,
 "nbformat_minor": 2
}
