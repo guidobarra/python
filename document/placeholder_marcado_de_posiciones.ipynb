{
 "cells": [
  {
   "cell_type": "code",
   "execution_count": 16,
   "metadata": {},
   "outputs": [],
   "source": [
    "import tensorflow as tf"
   ]
  },
  {
   "cell_type": "code",
   "execution_count": 17,
   "metadata": {},
   "outputs": [],
   "source": [
    "x = tf.placeholder(tf.int32,shape=[3],name='x')\n",
    "y = tf.placeholder(tf.int32, shape=[3],name='y')\n",
    "\n",
    "sum_x = tf.reduce_sum(x,name=\"sum_x\")\n",
    "prod_y = tf.reduce_prod(y,name=\"prod_y\")\n",
    "\n",
    "final_div = tf.div(sum_x,prod_y,name=\"final_div\")\n",
    "final_mean = tf.reduce_mean([sum_x,prod_y],name=\"final_mean\")"
   ]
  },
  {
   "cell_type": "code",
   "execution_count": 18,
   "metadata": {},
   "outputs": [],
   "source": [
    "sess = tf.Session()"
   ]
  },
  {
   "cell_type": "code",
   "execution_count": 19,
   "metadata": {},
   "outputs": [
    {
     "name": "stdout",
     "output_type": "stream",
     "text": [
      "sum(x):  600\n",
      "prod(y):  6\n",
      "sum(x)/prod(y):  10\n",
      "mean(sum(x),prod(y)):  6000\n"
     ]
    }
   ],
   "source": [
    "print(\"sum(x): \",sess.run(sum_x,feed_dict={x:[100,200,300]}))\n",
    "print(\"prod(y): \",sess.run(prod_y,feed_dict={y:[1,2,3]}))\n",
    "\n",
    "#esto necesita a ambos x e y placeholder valores para este calculo\n",
    "print(\"sum(x)/prod(y): \",sess.run(final_div,feed_dict={x: [10,20,30],y: [1,2,3]}))\n",
    "print(\"mean(sum(x),prod(y)): \",sess.run(final_mean,feed_dict={x: [1000,2000,3000],y: [10,20,30]}))\n",
    "\n"
   ]
  },
  {
   "cell_type": "code",
   "execution_count": 20,
   "metadata": {},
   "outputs": [],
   "source": [
    "writer = tf.summary.FileWriter('./m4_example1',sess.graph)\n",
    "\n",
    "writer.close()\n",
    "sess.close()"
   ]
  },
  {
   "cell_type": "code",
   "execution_count": null,
   "metadata": {},
   "outputs": [],
   "source": []
  }
 ],
 "metadata": {
  "kernelspec": {
   "display_name": "Python 3",
   "language": "python",
   "name": "python3"
  },
  "language_info": {
   "codemirror_mode": {
    "name": "ipython",
    "version": 3
   },
   "file_extension": ".py",
   "mimetype": "text/x-python",
   "name": "python",
   "nbconvert_exporter": "python",
   "pygments_lexer": "ipython3",
   "version": "3.6.8"
  }
 },
 "nbformat": 4,
 "nbformat_minor": 2
}
